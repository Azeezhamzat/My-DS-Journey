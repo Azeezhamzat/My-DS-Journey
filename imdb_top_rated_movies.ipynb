{
  "nbformat": 4,
  "nbformat_minor": 0,
  "metadata": {
    "colab": {
      "name": "imdb top rated movies.ipynb",
      "provenance": [],
      "authorship_tag": "ABX9TyOEzczQUU7w3GKRMkSHXRn0",
      "include_colab_link": true
    },
    "kernelspec": {
      "name": "python3",
      "display_name": "Python 3"
    },
    "language_info": {
      "name": "python"
    }
  },
  "cells": [
    {
      "cell_type": "markdown",
      "metadata": {
        "id": "view-in-github",
        "colab_type": "text"
      },
      "source": [
        "<a href=\"https://colab.research.google.com/github/Azeezhamzat/My-DS-Journey-Begins/blob/main/imdb_top_rated_movies.ipynb\" target=\"_parent\"><img src=\"https://colab.research.google.com/assets/colab-badge.svg\" alt=\"Open In Colab\"/></a>"
      ]
    },
    {
      "cell_type": "code",
      "metadata": {
        "id": "b1GmG1_qb-ux"
      },
      "source": [
        "from bs4 import BeautifulSoup\n",
        "import requests, openpyxl"
      ],
      "execution_count": 41,
      "outputs": []
    },
    {
      "cell_type": "code",
      "metadata": {
        "id": "fjqRnM6ylG-q"
      },
      "source": [
        "url = 'https://www.imdb.com/chart/top/'"
      ],
      "execution_count": null,
      "outputs": []
    },
    {
      "cell_type": "code",
      "metadata": {
        "id": "Cfv6YvJkcJJl",
        "colab": {
          "base_uri": "https://localhost:8080/"
        },
        "outputId": "af8d62ab-79b0-4b31-9613-ffda2f822c49"
      },
      "source": [
        "excel = openpyxl.Workbook()\n",
        "print(excel.sheetnames)\n",
        "sheet = excel.active\n",
        "sheet.title = 'Top rated IMDB movies'\n",
        "print(excel.sheetnames)\n",
        "sheet.append(['Movie name', 'Movie rank', 'Year of release', 'Rating'])\n",
        "try:\n",
        "  page = requests.get(url)\n",
        "  page.raise_for_status()\n",
        "  soup = BeautifulSoup(page.text, 'html.parser')\n",
        "  movies = soup.find('tbody', class_=\"lister-list\").find_all('tr')\n",
        "  \n",
        "  for movie in movies:\n",
        "    name = movie.find('td', class_=\"titleColumn\").a.text\n",
        "\n",
        "    rank = movie.find('td', class_='titleColumn').get_text(strip=True).split('.')[0]\n",
        "\n",
        "    year = movie.find('td', class_='titleColumn').span.text.strip('()')\n",
        "\n",
        "    rating = movie.find('td', class_=\"ratingColumn imdbRating\").strong.text\n",
        "\n",
        "    print(rank, name, year, rating)\n",
        "    sheet.append([rank, name, year, rating])\n",
        "except Exception as e:\n",
        "  print(e)\n",
        "\n",
        "excel.save('IMDB Movie Ratings.xlsx')"
      ],
      "execution_count": 46,
      "outputs": [
        {
          "output_type": "stream",
          "name": "stdout",
          "text": [
            "['Sheet']\n",
            "['Top rated IMDB movies']\n",
            "1 The Shawshank Redemption 1994 9.2\n",
            "2 The Godfather 1972 9.1\n",
            "3 The Godfather: Part II 1974 9.0\n",
            "4 The Dark Knight 2008 9.0\n",
            "5 12 Angry Men 1957 8.9\n",
            "6 Schindler's List 1993 8.9\n",
            "7 The Lord of the Rings: The Return of the King 2003 8.9\n",
            "8 Pulp Fiction 1994 8.8\n",
            "9 The Good, the Bad and the Ugly 1966 8.8\n",
            "10 The Lord of the Rings: The Fellowship of the Ring 2001 8.8\n",
            "11 Fight Club 1999 8.8\n",
            "12 Forrest Gump 1994 8.7\n",
            "13 Inception 2010 8.7\n",
            "14 The Lord of the Rings: The Two Towers 2002 8.7\n",
            "15 Star Wars: Episode V - The Empire Strikes Back 1980 8.7\n",
            "16 The Matrix 1999 8.6\n",
            "17 Goodfellas 1990 8.6\n",
            "18 One Flew Over the Cuckoo's Nest 1975 8.6\n",
            "19 Seven Samurai 1954 8.6\n",
            "20 Se7en 1995 8.6\n",
            "21 The Silence of the Lambs 1991 8.6\n",
            "22 City of God 2002 8.6\n",
            "23 Life Is Beautiful 1997 8.6\n",
            "24 It's a Wonderful Life 1946 8.6\n",
            "25 Star Wars: Episode IV - A New Hope 1977 8.6\n",
            "26 Saving Private Ryan 1998 8.6\n",
            "27 Interstellar 2014 8.5\n",
            "28 Spirited Away 2001 8.5\n",
            "29 The Green Mile 1999 8.5\n",
            "30 Parasite 2019 8.5\n",
            "31 Léon: The Professional 1994 8.5\n",
            "32 Hara-Kiri 1962 8.5\n",
            "33 The Pianist 2002 8.5\n",
            "34 Terminator 2: Judgment Day 1991 8.5\n",
            "35 The Usual Suspects 1995 8.5\n",
            "36 Back to the Future 1985 8.5\n",
            "37 Psycho 1960 8.5\n",
            "38 The Lion King 1994 8.5\n",
            "39 Modern Times 1936 8.5\n",
            "40 American History X 1998 8.5\n",
            "41 Grave of the Fireflies 1988 8.5\n",
            "42 City Lights 1931 8.5\n",
            "43 Whiplash 2014 8.5\n",
            "44 Gladiator 2000 8.5\n",
            "45 The Departed 2006 8.5\n",
            "46 The Intouchables 2011 8.5\n",
            "47 The Prestige 2006 8.5\n",
            "48 Casablanca 1942 8.4\n",
            "49 Once Upon a Time in the West 1968 8.4\n",
            "50 Rear Window 1954 8.4\n",
            "51 Cinema Paradiso 1988 8.4\n",
            "52 Alien 1979 8.4\n",
            "53 Apocalypse Now 1979 8.4\n",
            "54 Memento 2000 8.4\n",
            "55 Indiana Jones and the Raiders of the Lost Ark 1981 8.4\n",
            "56 The Great Dictator 1940 8.4\n",
            "57 The Lives of Others 2006 8.4\n",
            "58 Django Unchained 2012 8.4\n",
            "59 Paths of Glory 1957 8.4\n",
            "60 Sunset Blvd. 1950 8.4\n",
            "61 WALL·E 2008 8.4\n",
            "62 Avengers: Infinity War 2018 8.4\n",
            "63 Witness for the Prosecution 1957 8.4\n",
            "64 The Shining 1980 8.4\n",
            "65 Spider-Man: Into the Spider-Verse 2018 8.4\n",
            "66 Dr. Strangelove or: How I Learned to Stop Worrying and Love the Bomb 1964 8.4\n",
            "67 Princess Mononoke 1997 8.3\n",
            "68 Joker 2019 8.3\n",
            "69 Oldboy 2003 8.3\n",
            "70 Your Name. 2016 8.3\n",
            "71 The Dark Knight Rises 2012 8.3\n",
            "72 Coco 2017 8.3\n",
            "73 Aliens 1986 8.3\n",
            "74 Once Upon a Time in America 1984 8.3\n",
            "75 Capernaum 2018 8.3\n",
            "76 Avengers: Endgame 2019 8.3\n",
            "77 Das Boot 1981 8.3\n",
            "78 High and Low 1963 8.3\n",
            "79 American Beauty 1999 8.3\n",
            "80 Toy Story 1995 8.3\n",
            "81 3 Idiots 2009 8.3\n",
            "82 Amadeus 1984 8.3\n",
            "83 Braveheart 1995 8.3\n",
            "84 Hamilton 2020 8.3\n",
            "85 Inglourious Basterds 2009 8.3\n",
            "86 Good Will Hunting 1997 8.3\n",
            "87 Star Wars: Episode VI - Return of the Jedi 1983 8.3\n",
            "88 2001: A Space Odyssey 1968 8.3\n",
            "89 Reservoir Dogs 1992 8.3\n",
            "90 M 1931 8.3\n",
            "91 Vertigo 1958 8.3\n",
            "92 Like Stars on Earth 2007 8.3\n",
            "93 Come and See 1985 8.3\n",
            "94 Citizen Kane 1941 8.3\n",
            "95 The Hunt 2012 8.3\n",
            "96 Requiem for a Dream 2000 8.3\n",
            "97 Singin' in the Rain 1952 8.3\n",
            "98 North by Northwest 1959 8.3\n",
            "99 Eternal Sunshine of the Spotless Mind 2004 8.3\n",
            "100 Bicycle Thieves 1948 8.3\n",
            "101 Ikiru 1952 8.3\n",
            "102 Lawrence of Arabia 1962 8.3\n",
            "103 The Kid 1921 8.2\n",
            "104 Full Metal Jacket 1987 8.2\n",
            "105 Jai Bhim 2021 8.2\n",
            "106 Dangal 2016 8.2\n",
            "107 The Father 2020 8.2\n",
            "108 The Apartment 1960 8.2\n",
            "109 Incendies 2010 8.2\n",
            "110 Pather Panchali 1955 8.2\n",
            "111 A Clockwork Orange 1971 8.2\n",
            "112 Metropolis 1927 8.2\n",
            "113 Taxi Driver 1976 8.2\n",
            "114 Double Indemnity 1944 8.2\n",
            "115 A Separation 2011 8.2\n",
            "116 The Sting 1973 8.2\n",
            "117 Scarface 1983 8.2\n",
            "118 Snatch 2000 8.2\n",
            "119 1917 2019 8.2\n",
            "120 Amélie 2001 8.2\n",
            "121 To Kill a Mockingbird 1962 8.2\n",
            "122 Toy Story 3 2010 8.2\n",
            "123 For a Few Dollars More 1965 8.2\n",
            "124 Up 2009 8.2\n",
            "125 Indiana Jones and the Last Crusade 1989 8.2\n",
            "126 Heat 1995 8.2\n",
            "127 L.A. Confidential 1997 8.2\n",
            "128 Yojimbo 1961 8.2\n",
            "129 Ran 1985 8.2\n",
            "130 Die Hard 1988 8.2\n",
            "131 Rashomon 1950 8.2\n",
            "132 Green Book 2018 8.2\n",
            "133 Downfall 2004 8.2\n",
            "134 Monty Python and the Holy Grail 1975 8.2\n",
            "135 All About Eve 1950 8.2\n",
            "136 Some Like It Hot 1959 8.2\n",
            "137 Batman Begins 2005 8.2\n",
            "138 Unforgiven 1992 8.2\n",
            "139 Children of Heaven 1997 8.2\n",
            "140 Howl's Moving Castle 2004 8.2\n",
            "141 The Wolf of Wall Street 2013 8.2\n",
            "142 Judgment at Nuremberg 1961 8.2\n",
            "143 The Great Escape 1963 8.2\n",
            "144 Casino 1995 8.2\n",
            "145 There Will Be Blood 2007 8.2\n",
            "146 The Treasure of the Sierra Madre 1948 8.2\n",
            "147 Pan's Labyrinth 2006 8.1\n",
            "148 A Beautiful Mind 2001 8.1\n",
            "149 Dersu Uzala 1975 8.1\n",
            "150 The Secret in Their Eyes 2009 8.1\n",
            "151 Dune 2021 8.1\n",
            "152 Raging Bull 1980 8.1\n",
            "153 Chinatown 1974 8.1\n",
            "154 My Neighbor Totoro 1988 8.1\n",
            "155 Lock, Stock and Two Smoking Barrels 1998 8.1\n",
            "156 Shutter Island 2010 8.1\n",
            "157 The Gold Rush 1925 8.1\n",
            "158 No Country for Old Men 2007 8.1\n",
            "159 Dial M for Murder 1954 8.1\n",
            "160 The Seventh Seal 1957 8.1\n",
            "161 Three Billboards Outside Ebbing, Missouri 2017 8.1\n",
            "162 The Thing 1982 8.1\n",
            "163 The Elephant Man 1980 8.1\n",
            "164 The Sixth Sense 1999 8.1\n",
            "165 Klaus 2019 8.1\n",
            "166 Wild Strawberries 1957 8.1\n",
            "167 The Third Man 1949 8.1\n",
            "168 The Truman Show 1998 8.1\n",
            "169 Jurassic Park 1993 8.1\n",
            "170 V for Vendetta 2005 8.1\n",
            "171 Memories of Murder 2003 8.1\n",
            "172 Blade Runner 1982 8.1\n",
            "173 Inside Out 2015 8.1\n",
            "174 Trainspotting 1996 8.1\n",
            "175 The Bridge on the River Kwai 1957 8.1\n",
            "176 Fargo 1996 8.1\n",
            "177 Warrior 2011 8.1\n",
            "178 Finding Nemo 2003 8.1\n",
            "179 Kill Bill: Vol. 1 2003 8.1\n",
            "180 Gone with the Wind 1939 8.1\n",
            "181 Tokyo Story 1953 8.1\n",
            "182 On the Waterfront 1954 8.1\n",
            "183 My Father and My Son 2005 8.1\n",
            "184 Stalker 1979 8.1\n",
            "185 Wild Tales 2014 8.1\n",
            "186 Z 1969 8.1\n",
            "187 The Deer Hunter 1978 8.1\n",
            "188 Sherlock Jr. 1924 8.1\n",
            "189 The General 1926 8.1\n",
            "190 Persona 1966 8.1\n",
            "191 Gran Torino 2008 8.1\n",
            "192 Prisoners 2013 8.1\n",
            "193 The Grand Budapest Hotel 2014 8.1\n",
            "194 Before Sunrise 1995 8.1\n",
            "195 Mary and Max 2009 8.1\n",
            "196 Mr. Smith Goes to Washington 1939 8.1\n",
            "197 Catch Me If You Can 2002 8.1\n",
            "198 In the Name of the Father 1993 8.1\n",
            "199 Room 2015 8.1\n",
            "200 Barry Lyndon 1975 8.1\n",
            "201 Gone Girl 2014 8.1\n",
            "202 Hacksaw Ridge 2016 8.1\n",
            "203 The Passion of Joan of Arc 1928 8.1\n",
            "204 Andhadhun 2018 8.1\n",
            "205 Ford v Ferrari 2019 8.1\n",
            "206 12 Years a Slave 2013 8.1\n",
            "207 To Be or Not to Be 1942 8.1\n",
            "208 The Big Lebowski 1998 8.1\n",
            "209 Autumn Sonata 1978 8.1\n",
            "210 How to Train Your Dragon 2010 8.1\n",
            "211 Dead Poets Society 1989 8.1\n",
            "212 Mad Max: Fury Road 2015 8.1\n",
            "213 Ben-Hur 1959 8.1\n",
            "214 Harry Potter and the Deathly Hallows: Part 2 2011 8.1\n",
            "215 Million Dollar Baby 2004 8.1\n",
            "216 The Wages of Fear 1953 8.1\n",
            "217 Stand by Me 1986 8.1\n",
            "218 The Handmaiden 2016 8.1\n",
            "219 Network 1976 8.1\n",
            "220 Logan 2017 8.1\n",
            "221 Cool Hand Luke 1967 8.1\n",
            "222 Hachi: A Dog's Tale 2009 8.0\n",
            "223 Gangs of Wasseypur 2012 8.0\n",
            "224 The 400 Blows 1959 8.0\n",
            "225 La Haine 1995 8.0\n",
            "226 Platoon 1986 8.0\n",
            "227 A Silent Voice: The Movie 2016 8.0\n",
            "228 Spotlight 2015 8.0\n",
            "229 Rebecca 1940 8.0\n",
            "230 Monsters, Inc. 2001 8.0\n",
            "231 Monty Python's Life of Brian 1979 8.0\n",
            "232 The Bandit 1996 8.0\n",
            "233 Hotel Rwanda 2004 8.0\n",
            "234 In the Mood for Love 2000 8.0\n",
            "235 Rush 2013 8.0\n",
            "236 Into the Wild 2007 8.0\n",
            "237 Amores perros 2000 8.0\n",
            "238 Rocky 1976 8.0\n",
            "239 Nausicaä of the Valley of the Wind 1984 8.0\n",
            "240 It Happened One Night 1934 8.0\n",
            "241 Andrei Rublev 1966 8.0\n",
            "242 Before Sunset 2004 8.0\n",
            "243 Fanny and Alexander 1982 8.0\n",
            "244 The Battle of Algiers 1966 8.0\n",
            "245 Neon Genesis Evangelion: The End of Evangelion 1997 8.0\n",
            "246 The Princess Bride 1987 8.0\n",
            "247 Nights of Cabiria 1957 8.0\n",
            "248 Paris, Texas 1984 8.0\n",
            "249 Three Colors: Red 1994 8.0\n",
            "250 Drishyam 2 2021 8.0\n"
          ]
        }
      ]
    },
    {
      "cell_type": "code",
      "metadata": {
        "id": "D0mH-NK-cK_G"
      },
      "source": [
        ""
      ],
      "execution_count": null,
      "outputs": []
    },
    {
      "cell_type": "code",
      "metadata": {
        "id": "K3n-KoYvcc-p"
      },
      "source": [
        ""
      ],
      "execution_count": null,
      "outputs": []
    },
    {
      "cell_type": "code",
      "metadata": {
        "id": "lGgfVyLUchpc"
      },
      "source": [
        ""
      ],
      "execution_count": null,
      "outputs": []
    },
    {
      "cell_type": "code",
      "metadata": {
        "id": "Gtz7CBoUcwp4"
      },
      "source": [
        ""
      ],
      "execution_count": null,
      "outputs": []
    },
    {
      "cell_type": "code",
      "metadata": {
        "id": "HHBvbFhhc3sT"
      },
      "source": [
        ""
      ],
      "execution_count": null,
      "outputs": []
    },
    {
      "cell_type": "code",
      "metadata": {
        "id": "g9cfvxzUbVCD"
      },
      "source": [
        ""
      ],
      "execution_count": null,
      "outputs": []
    },
    {
      "cell_type": "code",
      "metadata": {
        "id": "GjS2M3BUZp3F"
      },
      "source": [
        ""
      ],
      "execution_count": null,
      "outputs": []
    }
  ]
}