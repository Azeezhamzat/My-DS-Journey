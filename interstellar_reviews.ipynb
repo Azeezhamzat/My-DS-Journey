{
  "nbformat": 4,
  "nbformat_minor": 0,
  "metadata": {
    "colab": {
      "name": "interstellar_reviews.ipynb",
      "provenance": [],
      "authorship_tag": "ABX9TyPcu+z79vdJ9nf1SSzQQ4pw",
      "include_colab_link": true
    },
    "kernelspec": {
      "name": "python3",
      "display_name": "Python 3"
    },
    "language_info": {
      "name": "python"
    }
  },
  "cells": [
    {
      "cell_type": "markdown",
      "metadata": {
        "id": "view-in-github",
        "colab_type": "text"
      },
      "source": [
        "<a href=\"https://colab.research.google.com/github/Azeezhamzat/My-DS-Journey-Begins/blob/main/interstellar_reviews.ipynb\" target=\"_parent\"><img src=\"https://colab.research.google.com/assets/colab-badge.svg\" alt=\"Open In Colab\"/></a>"
      ]
    },
    {
      "cell_type": "code",
      "metadata": {
        "id": "BWNcgMHzpwuc"
      },
      "source": [
        "from bs4 import BeautifulSoup\n",
        "import requests, openpyxl"
      ],
      "execution_count": 50,
      "outputs": []
    },
    {
      "cell_type": "code",
      "metadata": {
        "id": "J_4RNO0mq9nW"
      },
      "source": [
        "url = 'https://www.imdb.com/title/tt0816692/reviews?ref_=tt_ov_rt'"
      ],
      "execution_count": 3,
      "outputs": []
    },
    {
      "cell_type": "code",
      "metadata": {
        "colab": {
          "base_uri": "https://localhost:8080/"
        },
        "id": "mCHzaRQerC4h",
        "outputId": "100ec499-2690-4edb-d641-3dcf4ba37b72"
      },
      "source": [
        "excel = openpyxl.Workbook()\n",
        "print(excel.sheetnames)\n",
        "sheet = excel.active\n",
        "sheet.title = 'Interstellar movie reviews'\n",
        "print(excel.sheetnames)\n",
        "sheet.append(['review title', 'review rating', 'display name', 'review date', 'REVIEWS'])\n",
        "\n",
        "try:\n",
        "  page = requests.get(url)\n",
        "  page.raise_for_status()\n",
        "  soup = BeautifulSoup(page.text, 'html.parser')\n",
        "  interstellars = soup.find('section', class_=\"article\").find_all('div', class_=\"lister-item-content\")\n",
        "  \n",
        "  for interstellar in interstellars:\n",
        "\n",
        "    title = interstellar.find('a', class_=\"title\").text\n",
        "\n",
        "    rating = interstellar.find('span', class_=\"rating-other-user-rating\").span.get_text(strip=True)\n",
        "\n",
        "    display_name = interstellar.find('span', class_=\"display-name-link\").a.text\n",
        "\n",
        "    review_date = interstellar.find('span', class_=\"review-date\").text\n",
        "\n",
        "    review = interstellar.find('div', class_=\"text show-more__control\").text\n",
        "\n",
        "\n",
        "    print(title, rating, display_name, review_date, review)\n",
        "    sheet.append([title, rating, display_name, review_date, review])\n",
        "except Exception as e:\n",
        "  print(e)\n",
        "excel.save('Interstellar_movie_reviews.xlsx')"
      ],
      "execution_count": 54,
      "outputs": [
        {
          "output_type": "stream",
          "name": "stdout",
          "text": [
            "['Sheet']\n",
            "['Interstellar movie reviews']\n",
            " Why tack on an ending where everything works out perfectly?!\n",
            " 8 MartinHafer 22 February 2015 The first 80-90% of \"Interstellar\" I absolutely loved and was prepared to give this movie a 10. Sadly, the ending inexplicably had an ending that didn't make a lot of sense and only seemed there in order to tack on a nice Hollywood ending and wrap everything up perfectly. It's sad, but apparently the public embraced this sort of ending...so who am I to complain?!As for the film, there are a bazillion reviews so I will be brief. The film has incredible special effects and is a film best seen in the movie theater. On a HUGE screen at home, it would still lose something. Like the wonderful \"Gravity\", it just needs the big screen...trust me with this. The story is exceptional and offers many wonderful twists (up until the disappointing ending that is) and there are a lot of wonderful performances. Overall, the good certainly outweighs the bad and it's a film to see. But as for me, an ending with more sadness and vagueness would have been okay.\n",
            " Often impressive and very beautiful, but less than stellar\n",
            " 6 TheLittleSongbird 21 January 2017 As someone who likes the cast, loved the concept and who considers Christopher Nolan very talented and has enjoyed a good deal of his films, 'Interstellar' was somewhat of a let-down. It has a lot of great elements, but also has its flaws and one admires Nolan more for his ambition than his execution.Starting with the praises, 'Interstellar' does look spectacular. It's majestically shot, seamlessly edited and boasts audacious set design and fantastic special effects. The music score from Hans Zimmer is perhaps his best effort for a Nolan film, it has subtlety but also an unnerving eeriness and haunting and heart-wrenching pathos. The sound effects and sound mixing are expertly managed and give a real sense of authenticity.'Interstellar' however has more than just being technically spectacular. It is thought-provoking and awe-inspiring frequently, with some fascinating ideas, and does have a lot of heart, making the emotional elements genuinely poignant. The Cooper/Murph relationship, which is really what takes centre stage, is beautifully done and often very heartfelt. Nolan directs with great ambition, strong direction of the actors and flawless technical command.Matthew McConaughey proves that his Best Actor Oscar for 'Dallas Buyers Club' wasn't a fluke, he holds everything together in a committed, charismatic and deeply felt turn. MacKenzie Foy matches him beautifully as does Jessica Chastain. Anne Hathaway is sassy and emotive, and there is fine support from John Lithgow and Michael Caine.However, 'Interstellar' is overlong and, because of the wildly variable pacing and that the story doesn't quite have enough content to justify it, it feels it. The pacing is wildly variable as aforementioned, there are times where it's fine but there's some choppiness and stodginess too.Dialogue isn't a strong suit either, there are many times where it's thought-provoking and poignant, but too much of it also consists of confused and at times illogical science (the time and space stuff was convoluted sometimes), forced sentiment and things being over-explained and preachy. Matt Damon's character felt thrown in and not particularly necessary, also somewhat silly, while the ending is far too idealistic and too falsely pat.Overall, less than stellar and was expecting much better. This said, 'Interstellar' is often impressive and very beautiful (especially technically, though the central relationship was also beautifully realised). 6/10 Bethany Cox\n",
            " Another bloated, overrated space epic\n",
            " 4 Leofwine_draca 14 January 2017 Another outer space film from Hollywood, this time directed by INCEPTION's Christopher Nolan. Thankfully it's better than the overrated GRAVITY, but INTERSTELLAR soon turns out to be overrated in turn. It seems that as soon as a film comes out these days with a half intelligent premise, critics and audiences lap it up and rate it as one of the best ever. INTERSTELLAR is far from that. It has plenty of interesting moments, but the overlong running time is padded and bloated with endless sentimentalism and extraneous characters.It also takes a heck of a lot of time for anything to actually happen. Matthew McConaughey is all earnestness as the protagonist and comes across as a dullard; Anne Hathaway's character is completely extraneous and lacking in charisma. Only old timers like John Lithgow and Michael Caine shine, although Wes Bentley is underutilised in his role. An unexpected appearance from Matt Damon is undoubtedly the story's highlight.For much of the running time this follows the template of a typical space adventure, but around the middle part of the film it starts to get weighed down with endless CGI effects and the whole end part of the production gets muddled and predictable in equal measure, coming across like a rip off of 2001: A SPACE ODYSSEY but not nearly as good.\n",
            " some problems but a few great touches of 2001\n",
            " 7 SnoopyStyle 25 June 2015 In the near future, Earth is devastated by blight where corn is the only surviving crop. Joseph Cooper (Matthew McConaughey) is a former astronaut pilot who has turned to farming like everybody else. He and his daughter Murph find an underground NASA site run by Dr. John Brand (Michael Caine). Brand calculates that the blight will wipe out mankind in a generation. He is working on plans to save humanity after wormholes have been discovered leading to other worlds. Coop goes on a mission with Brand's daughter Dr. Amelia Brand (Anne Hathaway), Romilly and Doyle. However the mission runs into problems of relativity and sabotage. Meanwhile Murph (Jessica Chastain) grows up and tries to finish the calculations by Brand.I have problems with the setup to this movie. The idea that everybody needs to turn into farmers seems laughable. There are all kinds of problems with the start. The blight seems to be a catch-all for Nolan to use as a tool to explain away whatever he needs. It's inelegant and clunky. Apparently, science is not necessary anymore in this world. It's not like this dystopian world has run out of oil. A lot of it seems unlikely.Once McConaughey goes up into space, the movie gets better. It has touches of 2001 but generally, it is more like 2010. There are still some problems with unlikely human reactions. The whole conflict between Tom and Murph seems overblown. It's trying to up the drama without setting it up properly. I like McConaughey's side of the story. I would have preferred to stay mostly with him and lose some of Chastain's. I'm afraid the time relativity ideas may be lost on some of the audience. Even the best parts of the movie do have some nagging questions. It is still an awesome movie despite its problems. Although, I thought he might turn into a space baby at the end.\n",
            " Intellectual, Although Sometimes Flawed Science Fiction\n",
            " 7 Hitchcoc 19 June 2015 I'm treading on some little used ground. From reading previous user comments, it seems that people give this movie a ten or a one (really?!). While this movie is, at times, a little confusing in the implications of time and space, it is still quite challenging and interesting. Earth is dying. Technology and war are blamed for the current conditions. Apparently, because of some serious dust, crops are slowly being destroyed. Also, the dust presents health hazards. The solution is to find a way to get people to a new place...or...to let the chips fall and send a few into space to inhabit a new planet or asteroid or moon or whatever, and start the whole thing over. A group of people who have maintained NASA (which is now seen as the deceivers of mankind) are building ships to explore the possibilities. The problem has to do with a limited time to manage this because of the laws of relativity. I thought it sort of devolved in a kind of sentimental mess, but the presentation of the problem is worth a viewing. There is some preachiness here which I find a bit hard to take, and a couple stated lessons that an eighth grader would know, let alone these experts. But it did keep my interest. One short criticism: It is way too long.\n",
            " Maybe the most spectacular movie of 2014 and one of the best\n",
            " 8 Horst_In_Translation 25 December 2014 To this day , many people still talk a lot about Christopher Nolan's \"Batman\"-trilogy, but here is his newest work: \"Interstellar\". He gets help from Michael Caine and Anne Hathaway again and a couple more familiar faces. One year after Cuarón with Gravity, he discovers the endless widths of space as well. The difference, however is that a large part of his movie, including the first 40 minutes or so completely, plays down on Planet Earth. However, it is also about survival in space, including two people instead of one though. Or you could probably say the whole human race and not one individual fate.This is like our generation's \"Armageddon\", only that it is much better and much more edge-of-the-seat. The lead character is played by Matthew McConaughey, whose career is still on a massive high after numerous critically lauded performances and an Academy Award win. \"Interstellar\" is much more than Sci-Fi though. I personally found the film was at its best when it touched more the emotional relationships of the characters. The water planet sequence was incredibly well done. And right afterward, when Cooper (McConaughey) sees how his beloved family has aged and become parents, it is truly moving as well. I had a lump in my throat just like I did when he meets his very old daughter at the end of the movie. The inclusions with the old people telling about the past seem a bit odd at first, but make sense towards the end as we find out who is speaking there really.Then, I also had a love-hate relationship with the Matt Damon parts. I found it pretty boring to be honest initially, but when we found out about his true intentions, it quickly turns into one of the best parts of the film. Nicely done. When Caine's character mentioned him with high praise early on, I felt there could be something fishy (like with Pixar's Up) there and yes it was. The ending of the movie with Hathaway's character completely alone out there made me think maybe there will be a sequel. Saving Private... ehh I mean Dr. Brand. Who knows? The time during which the whole film plays is also interesting. Somehow, the NASA lost a lot of their reputation and the moon landing is called fake in American school books. It is some point in the future. That much we know. David Oyelowo plays a small role here as one of the teachers. He has \"Selma\" in the race for an Academy Award nomination this year.The ending of the film was not among the best scenes in my opinion, but I still liked it. The whole ghost explanation about Cooper being actually the one giving the signs was pretty exciting. The effects are brilliant of course, but that does not really need be mentioned for Nolan movies. A given. Hans Zimmer did a good soundtrack and there is also some comic relief coming from McConaughey's charm (if you like that) and some droll robot creatures. Anyway, I found the film interesting enough that I found it a bit sad they did not get to visit the third planet (with Hathaway's character's lover), only the water planet and the ice planet. I'd have loved to see that. However, maybe that could be a nice inclusion for a sequel as well. The movie never dragged despite coming pretty close to the three-hour mark. It could have run for another hour and I probably would not have been bored. There really was hardly anything wrong with it. Affleck's character did not do too much for me. He wasn't particularly well-acted and the character felt just included as a simple man who quickly gave up on his dad in order to show the contrast compared to Chastain's character: the ambitious loving smart daughter with a true connection to Cooper. John Lithgow plays a small role too and is fun to watch as always.This is one of the movies I really recommend to watch, preferably on the big screen due to its sensational visual aspects. It's also good for a rewatch I believe, also to evaluate the characters' actions, especially Caine's for example. And the story of course. I believe, after one viewing, I am still far away from having understood everything that was going on, especially the scientific aspects. That however, does not hurt the viewing experience at all thanks to the film's great acting and emotional impact. If you are interested in space, you really have to see this too. It has distant planets, wormholes, black holes, spaceships and a lot more. Let me finish this review with two little snippets: First, the actress who played Murph as a child was the same that played Renesmee in the last two Twilight movies and, secondly, that fittingly Hathaway's character was called Amelia like the aviation pioneer Amelia Earhart. That can't be coincidence, can it? Especially with her last shot.\n",
            " Pretentious and Overrated Trip\n",
            " 6 claudio_carvalho 12 April 2015 In a post-apocalyptic future, crop blight is destroying civilization. The former pilot and engineer Cooper (Matthew McConaughey) lives in a farm in the countryside with his teenage son Tom, his daughter Murph and father-in-law Donald (John Lithgow). Murph is convinced that there is a ghost in her room trying to communicate with her and Cooper decodes a message with a coordinate. He heads to the location and finds a hidden NASA facility. Cooper meets Professor Brand (Michael Caine) that explains that they have found a wormhole and sent several spacecraft to seek a planet to send mankind. Only three of them are returning signals and now they want to launch the spacecraft Endurance to recover the collected data. He invites Cooper to be the pilot of Endurance and travel with his daughter Amelia (Anne Hathaway); the scientists Doyle (Wes Bentley) and Romilly (David Gyasi); and the robots TARS and CASE. Cooper accepts and Murph is overwhelmed with his decision. Copper crosses the wormhole to a distant galaxy in the beginning of a dangerous trip to save mankind. \"Interstellar\" is a sci-fi with a pretentious and overrated trip by the Hollywood darling Christopher Nolan. The story has a promising beginning, but becomes totally nonsense in the moment that Cooper leaves Brand. The plot is pretentious and uses Einstein relativity theory and other scientific concepts that are impossible to know whether they have scientific accuracy or not. My vote is six.Title (Brazil): \"Interestelar\" (\"Interstellar\")\n",
            "'NoneType' object has no attribute 'span'\n"
          ]
        }
      ]
    }
  ]
}