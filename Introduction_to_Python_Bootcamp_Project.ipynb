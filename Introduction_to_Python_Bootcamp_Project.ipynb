{
  "nbformat": 4,
  "nbformat_minor": 5,
  "metadata": {
    "kernelspec": {
      "display_name": "Python 3",
      "language": "python",
      "name": "python3"
    },
    "language_info": {
      "codemirror_mode": {
        "name": "ipython",
        "version": 3
      },
      "file_extension": ".py",
      "mimetype": "text/x-python",
      "name": "python",
      "nbconvert_exporter": "python",
      "pygments_lexer": "ipython3",
      "version": "3.7.6"
    },
    "colab": {
      "name": "Copy of Azeez_Adewale_Hamzat_Introduction_to_Python_Bootcamp_Project.ipynb",
      "provenance": [],
      "collapsed_sections": [],
      "include_colab_link": true
    }
  },
  "cells": [
    {
      "cell_type": "markdown",
      "metadata": {
        "id": "view-in-github",
        "colab_type": "text"
      },
      "source": [
        "<a href=\"https://colab.research.google.com/github/Azeezhamzat/My-DS-Journey-Begins/blob/main/Introduction_to_Python_Bootcamp_Project.ipynb\" target=\"_parent\"><img src=\"https://colab.research.google.com/assets/colab-badge.svg\" alt=\"Open In Colab\"/></a>"
      ]
    },
    {
      "cell_type": "markdown",
      "metadata": {
        "id": "zyKhpQVyGpnU"
      },
      "source": [
        "## Azeez Adewale HAMZAT_Bootcamp project submission\n",
        "Aug 24,2021"
      ],
      "id": "zyKhpQVyGpnU"
    },
    {
      "cell_type": "markdown",
      "metadata": {
        "id": "7szAVZxOGpn1"
      },
      "source": [
        "# Introduction to the Project"
      ],
      "id": "7szAVZxOGpn1"
    },
    {
      "cell_type": "markdown",
      "metadata": {
        "id": "bCDAt34SGpn5"
      },
      "source": [
        "You are a machine learning consultant and you have been handed a dataset to perform Exploratory Data Analysis (EDA) in preparation to use the dataset to build a classfication machine learning model. \n",
        "\n",
        "The dataset is the report of a census. The dataset has the following headings:\n",
        "- Age\n",
        "- Workclass\n",
        "- Education\n",
        "- Marital Status\n",
        "- Occupation\n",
        "- Relationship\n",
        "- Race\n",
        "- Sex\n",
        "- Capital Gain\n",
        "- Capital Loss\n",
        "- Hours per week\n",
        "- Native country\n",
        "- Class (Income Class)\n",
        "\n",
        "The dataset is to be fed into a classification algorithm (income class prediction) i.e. by analysing all the features in the dataset (e.g. age, workclass, education, marital status, etc), the algorithm can attempt to predict the income class the individual belongs to. Perform the tasks as stated below. "
      ],
      "id": "bCDAt34SGpn5"
    },
    {
      "cell_type": "markdown",
      "metadata": {
        "id": "RYDS8DR-Gpn9"
      },
      "source": [
        "## Task 1 - Import the necessary libraries"
      ],
      "id": "RYDS8DR-Gpn9"
    },
    {
      "cell_type": "code",
      "metadata": {
        "id": "XjDEH6YVGpoE"
      },
      "source": [
        "# import numpy as np, pandas as pd, matplotlib.pyplot as plt and any other library you thnk you would need\n",
        "import numpy as np\n",
        "import pandas as pd \n",
        "import matplotlib.pyplot as plt\n",
        "import seaborn as sns\n",
        "%matplotlib inline "
      ],
      "id": "XjDEH6YVGpoE",
      "execution_count": 73,
      "outputs": []
    },
    {
      "cell_type": "code",
      "metadata": {
        "id": "NYPP8wxAqTOC"
      },
      "source": [
        "import warnings\n",
        "warnings.filterwarnings('ignore')"
      ],
      "id": "NYPP8wxAqTOC",
      "execution_count": 74,
      "outputs": []
    },
    {
      "cell_type": "markdown",
      "metadata": {
        "id": "zXxn3H98GpoI"
      },
      "source": [
        "## Task 2 - Import the census dataset"
      ],
      "id": "zXxn3H98GpoI"
    },
    {
      "cell_type": "code",
      "metadata": {
        "id": "_FrAvZa_GpoJ",
        "colab": {
          "base_uri": "https://localhost:8080/",
          "height": 512
        },
        "outputId": "8e6c1fe9-c7f0-440b-9d78-c1c316768f7b"
      },
      "source": [
        "# import the census dataset which was sent you in CSV form here. Name the variable 'census_df'\n",
        "census_df = pd.read_csv('/adult_census_report.csv')\n",
        "census_df.head(10)"
      ],
      "id": "_FrAvZa_GpoJ",
      "execution_count": 75,
      "outputs": [
        {
          "output_type": "execute_result",
          "data": {
            "text/html": [
              "<div>\n",
              "<style scoped>\n",
              "    .dataframe tbody tr th:only-of-type {\n",
              "        vertical-align: middle;\n",
              "    }\n",
              "\n",
              "    .dataframe tbody tr th {\n",
              "        vertical-align: top;\n",
              "    }\n",
              "\n",
              "    .dataframe thead th {\n",
              "        text-align: right;\n",
              "    }\n",
              "</style>\n",
              "<table border=\"1\" class=\"dataframe\">\n",
              "  <thead>\n",
              "    <tr style=\"text-align: right;\">\n",
              "      <th></th>\n",
              "      <th>age</th>\n",
              "      <th>workclass</th>\n",
              "      <th>education</th>\n",
              "      <th>marital-status</th>\n",
              "      <th>occupation</th>\n",
              "      <th>relationship</th>\n",
              "      <th>race</th>\n",
              "      <th>sex</th>\n",
              "      <th>capital-gain</th>\n",
              "      <th>capital-loss</th>\n",
              "      <th>hours-per-week</th>\n",
              "      <th>native-country</th>\n",
              "      <th>class</th>\n",
              "    </tr>\n",
              "  </thead>\n",
              "  <tbody>\n",
              "    <tr>\n",
              "      <th>0</th>\n",
              "      <td>25</td>\n",
              "      <td>Private</td>\n",
              "      <td>11th</td>\n",
              "      <td>Never-married</td>\n",
              "      <td>Machine-op-inspct</td>\n",
              "      <td>Own-child</td>\n",
              "      <td>Black</td>\n",
              "      <td>Male</td>\n",
              "      <td>0</td>\n",
              "      <td>0</td>\n",
              "      <td>40</td>\n",
              "      <td>United-States</td>\n",
              "      <td>&lt;=50K</td>\n",
              "    </tr>\n",
              "    <tr>\n",
              "      <th>1</th>\n",
              "      <td>38</td>\n",
              "      <td>Private</td>\n",
              "      <td>HS-grad</td>\n",
              "      <td>Married-civ-spouse</td>\n",
              "      <td>Farming-fishing</td>\n",
              "      <td>Husband</td>\n",
              "      <td>White</td>\n",
              "      <td>Male</td>\n",
              "      <td>0</td>\n",
              "      <td>0</td>\n",
              "      <td>50</td>\n",
              "      <td>United-States</td>\n",
              "      <td>&lt;=50K</td>\n",
              "    </tr>\n",
              "    <tr>\n",
              "      <th>2</th>\n",
              "      <td>28</td>\n",
              "      <td>Local-gov</td>\n",
              "      <td>Assoc-acdm</td>\n",
              "      <td>Married-civ-spouse</td>\n",
              "      <td>Protective-serv</td>\n",
              "      <td>Husband</td>\n",
              "      <td>White</td>\n",
              "      <td>Male</td>\n",
              "      <td>0</td>\n",
              "      <td>0</td>\n",
              "      <td>40</td>\n",
              "      <td>United-States</td>\n",
              "      <td>&gt;50K</td>\n",
              "    </tr>\n",
              "    <tr>\n",
              "      <th>3</th>\n",
              "      <td>44</td>\n",
              "      <td>Private</td>\n",
              "      <td>Some-college</td>\n",
              "      <td>Married-civ-spouse</td>\n",
              "      <td>Machine-op-inspct</td>\n",
              "      <td>Husband</td>\n",
              "      <td>Black</td>\n",
              "      <td>Male</td>\n",
              "      <td>7688</td>\n",
              "      <td>0</td>\n",
              "      <td>40</td>\n",
              "      <td>United-States</td>\n",
              "      <td>&gt;50K</td>\n",
              "    </tr>\n",
              "    <tr>\n",
              "      <th>4</th>\n",
              "      <td>18</td>\n",
              "      <td>?</td>\n",
              "      <td>Some-college</td>\n",
              "      <td>Never-married</td>\n",
              "      <td>?</td>\n",
              "      <td>Own-child</td>\n",
              "      <td>White</td>\n",
              "      <td>Female</td>\n",
              "      <td>0</td>\n",
              "      <td>0</td>\n",
              "      <td>30</td>\n",
              "      <td>United-States</td>\n",
              "      <td>&lt;=50K</td>\n",
              "    </tr>\n",
              "    <tr>\n",
              "      <th>5</th>\n",
              "      <td>34</td>\n",
              "      <td>Private</td>\n",
              "      <td>10th</td>\n",
              "      <td>Never-married</td>\n",
              "      <td>Other-service</td>\n",
              "      <td>Not-in-family</td>\n",
              "      <td>White</td>\n",
              "      <td>Male</td>\n",
              "      <td>0</td>\n",
              "      <td>0</td>\n",
              "      <td>30</td>\n",
              "      <td>United-States</td>\n",
              "      <td>&lt;=50K</td>\n",
              "    </tr>\n",
              "    <tr>\n",
              "      <th>6</th>\n",
              "      <td>29</td>\n",
              "      <td>?</td>\n",
              "      <td>HS-grad</td>\n",
              "      <td>Never-married</td>\n",
              "      <td>?</td>\n",
              "      <td>Unmarried</td>\n",
              "      <td>Black</td>\n",
              "      <td>Male</td>\n",
              "      <td>0</td>\n",
              "      <td>0</td>\n",
              "      <td>40</td>\n",
              "      <td>United-States</td>\n",
              "      <td>&lt;=50K</td>\n",
              "    </tr>\n",
              "    <tr>\n",
              "      <th>7</th>\n",
              "      <td>63</td>\n",
              "      <td>Self-emp-not-inc</td>\n",
              "      <td>Prof-school</td>\n",
              "      <td>Married-civ-spouse</td>\n",
              "      <td>Prof-specialty</td>\n",
              "      <td>Husband</td>\n",
              "      <td>White</td>\n",
              "      <td>Male</td>\n",
              "      <td>3103</td>\n",
              "      <td>0</td>\n",
              "      <td>32</td>\n",
              "      <td>United-States</td>\n",
              "      <td>&gt;50K</td>\n",
              "    </tr>\n",
              "    <tr>\n",
              "      <th>8</th>\n",
              "      <td>24</td>\n",
              "      <td>Private</td>\n",
              "      <td>Some-college</td>\n",
              "      <td>Never-married</td>\n",
              "      <td>Other-service</td>\n",
              "      <td>Unmarried</td>\n",
              "      <td>White</td>\n",
              "      <td>Female</td>\n",
              "      <td>0</td>\n",
              "      <td>0</td>\n",
              "      <td>40</td>\n",
              "      <td>United-States</td>\n",
              "      <td>&lt;=50K</td>\n",
              "    </tr>\n",
              "    <tr>\n",
              "      <th>9</th>\n",
              "      <td>55</td>\n",
              "      <td>Private</td>\n",
              "      <td>7th-8th</td>\n",
              "      <td>Married-civ-spouse</td>\n",
              "      <td>Craft-repair</td>\n",
              "      <td>Husband</td>\n",
              "      <td>White</td>\n",
              "      <td>Male</td>\n",
              "      <td>0</td>\n",
              "      <td>0</td>\n",
              "      <td>10</td>\n",
              "      <td>United-States</td>\n",
              "      <td>&lt;=50K</td>\n",
              "    </tr>\n",
              "  </tbody>\n",
              "</table>\n",
              "</div>"
            ],
            "text/plain": [
              "   age          workclass  ...  native-country   class\n",
              "0   25            Private  ...   United-States   <=50K\n",
              "1   38            Private  ...   United-States   <=50K\n",
              "2   28          Local-gov  ...   United-States    >50K\n",
              "3   44            Private  ...   United-States    >50K\n",
              "4   18                  ?  ...   United-States   <=50K\n",
              "5   34            Private  ...   United-States   <=50K\n",
              "6   29                  ?  ...   United-States   <=50K\n",
              "7   63   Self-emp-not-inc  ...   United-States    >50K\n",
              "8   24            Private  ...   United-States   <=50K\n",
              "9   55            Private  ...   United-States   <=50K\n",
              "\n",
              "[10 rows x 13 columns]"
            ]
          },
          "metadata": {},
          "execution_count": 75
        }
      ]
    },
    {
      "cell_type": "markdown",
      "metadata": {
        "id": "DjVCZOQlGpoT"
      },
      "source": [
        "## Task 3 - Assess the dataset for understanding"
      ],
      "id": "DjVCZOQlGpoT"
    },
    {
      "cell_type": "markdown",
      "metadata": {
        "id": "zGu2ZUOsGpoV"
      },
      "source": [
        "Write python code that provides answers the following questions: \n",
        "\n",
        "- How many observations are in the census dataset?\n",
        "- How many people are in income class \"<=50k\"?\n",
        "- How many cells in the data are invalid for processing i.e. they have 'null or NaN' values?\n",
        "- What are the number of males and females in the dataset?"
      ],
      "id": "zGu2ZUOsGpoV"
    },
    {
      "cell_type": "code",
      "metadata": {
        "id": "cicvCS3zGpoY",
        "colab": {
          "base_uri": "https://localhost:8080/"
        },
        "outputId": "3ef95aad-e22e-4734-bc52-89d6ac8251aa"
      },
      "source": [
        "census_df.shape"
      ],
      "id": "cicvCS3zGpoY",
      "execution_count": 76,
      "outputs": [
        {
          "output_type": "execute_result",
          "data": {
            "text/plain": [
              "(48842, 13)"
            ]
          },
          "metadata": {},
          "execution_count": 76
        }
      ]
    },
    {
      "cell_type": "markdown",
      "metadata": {
        "id": "x2B-GIwUGpoa"
      },
      "source": [
        "### The datasest contain 48,842 rows and 13 columns"
      ],
      "id": "x2B-GIwUGpoa"
    },
    {
      "cell_type": "code",
      "metadata": {
        "id": "Ky8gVUURGpod",
        "colab": {
          "base_uri": "https://localhost:8080/"
        },
        "outputId": "e7d48e2e-5e9d-45bd-ce6c-fa05cb9f12fb"
      },
      "source": [
        "census_df['class'].value_counts()"
      ],
      "id": "Ky8gVUURGpod",
      "execution_count": 77,
      "outputs": [
        {
          "output_type": "execute_result",
          "data": {
            "text/plain": [
              " <=50K    37155\n",
              " >50K     11687\n",
              "Name: class, dtype: int64"
            ]
          },
          "metadata": {},
          "execution_count": 77
        }
      ]
    },
    {
      "cell_type": "markdown",
      "metadata": {
        "id": "5k7MbJrUGpog"
      },
      "source": [
        "### There are 37155  people in income class \"<=50K\""
      ],
      "id": "5k7MbJrUGpog"
    },
    {
      "cell_type": "code",
      "metadata": {
        "id": "-rzedcqFGpoj",
        "colab": {
          "base_uri": "https://localhost:8080/"
        },
        "outputId": "9c5b6bda-6270-4b0d-9215-dff46df00372"
      },
      "source": [
        "census_df.isnull().sum()"
      ],
      "id": "-rzedcqFGpoj",
      "execution_count": 78,
      "outputs": [
        {
          "output_type": "execute_result",
          "data": {
            "text/plain": [
              "age               0\n",
              "workclass         0\n",
              "education         0\n",
              "marital-status    0\n",
              "occupation        0\n",
              "relationship      0\n",
              "race              0\n",
              "sex               0\n",
              "capital-gain      0\n",
              "capital-loss      0\n",
              "hours-per-week    0\n",
              "native-country    0\n",
              "class             0\n",
              "dtype: int64"
            ]
          },
          "metadata": {},
          "execution_count": 78
        }
      ]
    },
    {
      "cell_type": "markdown",
      "metadata": {
        "id": "eMSbtGlHGpok"
      },
      "source": [
        "### There is no missing value, but there are obviously some '?' within the dataset. \n",
        "### These '?' are invalid for processing.\n",
        "### We have to either remove or replace the with valid figures"
      ],
      "id": "eMSbtGlHGpok"
    },
    {
      "cell_type": "code",
      "metadata": {
        "scrolled": true,
        "id": "2Au9HjHBGpol",
        "colab": {
          "base_uri": "https://localhost:8080/"
        },
        "outputId": "c10b51ca-68f6-4cda-ec26-4d7422bf1d7f"
      },
      "source": [
        "#To figure the total numbers of the '?' so that we can know what decision to make\n",
        "for feature in census_df.columns:\n",
        "    print('------','Column name:',feature,'------')\n",
        "    print(census_df[feature].unique())\n",
        "    print('--------end---------')\n",
        "    print(' ')"
      ],
      "id": "2Au9HjHBGpol",
      "execution_count": 79,
      "outputs": [
        {
          "output_type": "stream",
          "name": "stdout",
          "text": [
            "------ Column name: age ------\n",
            "[25 38 28 44 18 34 29 63 24 55 65 36 26 58 48 43 20 37 40 72 45 22 23 54\n",
            " 32 46 56 17 39 52 21 42 33 30 47 41 19 69 50 31 59 49 51 27 57 61 64 79\n",
            " 73 53 77 80 62 35 68 66 75 60 67 71 70 90 81 74 78 82 83 85 76 84 89 88\n",
            " 87 86]\n",
            "--------end---------\n",
            " \n",
            "------ Column name: workclass ------\n",
            "[' Private' ' Local-gov' ' ?' ' Self-emp-not-inc' ' Federal-gov'\n",
            " ' State-gov' ' Self-emp-inc' ' Without-pay' ' Never-worked']\n",
            "--------end---------\n",
            " \n",
            "------ Column name: education ------\n",
            "[' 11th' ' HS-grad' ' Assoc-acdm' ' Some-college' ' 10th' ' Prof-school'\n",
            " ' 7th-8th' ' Bachelors' ' Masters' ' Doctorate' ' 5th-6th' ' Assoc-voc'\n",
            " ' 9th' ' 12th' ' 1st-4th' ' Preschool']\n",
            "--------end---------\n",
            " \n",
            "------ Column name: marital-status ------\n",
            "[' Never-married' ' Married-civ-spouse' ' Widowed' ' Divorced'\n",
            " ' Separated' ' Married-spouse-absent' ' Married-AF-spouse']\n",
            "--------end---------\n",
            " \n",
            "------ Column name: occupation ------\n",
            "[' Machine-op-inspct' ' Farming-fishing' ' Protective-serv' ' ?'\n",
            " ' Other-service' ' Prof-specialty' ' Craft-repair' ' Adm-clerical'\n",
            " ' Exec-managerial' ' Tech-support' ' Sales' ' Priv-house-serv'\n",
            " ' Transport-moving' ' Handlers-cleaners' ' Armed-Forces']\n",
            "--------end---------\n",
            " \n",
            "------ Column name: relationship ------\n",
            "[' Own-child' ' Husband' ' Not-in-family' ' Unmarried' ' Wife'\n",
            " ' Other-relative']\n",
            "--------end---------\n",
            " \n",
            "------ Column name: race ------\n",
            "[' Black' ' White' ' Asian-Pac-Islander' ' Other' ' Amer-Indian-Eskimo']\n",
            "--------end---------\n",
            " \n",
            "------ Column name: sex ------\n",
            "[' Male' ' Female']\n",
            "--------end---------\n",
            " \n",
            "------ Column name: capital-gain ------\n",
            "[    0  7688  3103  6418  7298  3908 14084  5178 15024 99999  2597  2907\n",
            "  4650  6497  1055  5013 27828  4934  4064  3674  2174 10605  3418   114\n",
            "  2580  3411  4508  4386  8614 13550  6849  2463  3137  2885  2964  1471\n",
            " 10566  2354  1424  1455  3325  4416 25236   594  2105  4787  2829   401\n",
            "  4865  1264  1506 10520  3464  2653 20051  4101  1797  2407  3471  1086\n",
            "  1848 14344  1151  2993  2290 15020  9386  2202  3818  2176  5455 11678\n",
            "  7978  7262  6514 41310  3456  7430  2414  2062 34095  1831  6723  5060\n",
            " 15831  2977  2346  3273  2329  9562  2635  4931  1731  6097   914  7896\n",
            "  5556  1409  3781  3942  2538  3887 25124  7443  5721  1173  4687  6612\n",
            "  6767  2961   991  2036  2936  2050  1111  2228 22040  3432  6360  2009\n",
            "  1639 18481  2387]\n",
            "--------end---------\n",
            " \n",
            "------ Column name: capital-loss ------\n",
            "[   0 1721 1876 2415 1887  625 1977 2057 1429 1590 1485 2051 2377 1672\n",
            " 1628 1902 1602 1741 2444 1408 2001 2042 1740 1825 1848 1719 3004 2179\n",
            " 1573 2205 1258 2339 1726 2258 1340 1504 2559 1668 1974 1980 1564 2547\n",
            " 2002 1669 1617  323 3175 2472 2174 1579 2129 1510 1735 2282 1870 1411\n",
            " 1911 1651 1092 1762 2457 2231 2238  653 1138 2246 2603 2392 1944 1380\n",
            " 2465 1421 3770 1594  213 2149 2824 1844 2467 2163 1816 1648 2206 2352\n",
            "  419 1539  880  810  974 4356 2489 1755 3683 2267 2080  155 3900 2201\n",
            " 2754]\n",
            "--------end---------\n",
            " \n",
            "------ Column name: hours-per-week ------\n",
            "[40 50 30 32 10 39 35 48 25 20 45 47  6 43 90 54 60 38 36 18 24 44 56 28\n",
            " 16 41 22 55 14 33 37  8 12 70 15 75 52 84 42 80 68 99 65  5 17 72 53 29\n",
            " 96 21 46  3  1 23 49 67 76  7  2 58 26 34  4 51 78 63 31 92 77 27 85 13\n",
            " 19 98 62 66 57 11 86 59  9 64 73 61 88 79 89 74 69 87 97 94 82 91 81 95]\n",
            "--------end---------\n",
            " \n",
            "------ Column name: native-country ------\n",
            "[' United-States' ' ?' ' Peru' ' Guatemala' ' Mexico'\n",
            " ' Dominican-Republic' ' Ireland' ' Germany' ' Philippines' ' Thailand'\n",
            " ' Haiti' ' El-Salvador' ' Puerto-Rico' ' Vietnam' ' South' ' Columbia'\n",
            " ' Japan' ' India' ' Cambodia' ' Poland' ' Laos' ' England' ' Cuba'\n",
            " ' Taiwan' ' Italy' ' Canada' ' Portugal' ' China' ' Nicaragua'\n",
            " ' Honduras' ' Iran' ' Scotland' ' Jamaica' ' Ecuador' ' Yugoslavia'\n",
            " ' Hungary' ' Hong' ' Greece' ' Trinadad&Tobago'\n",
            " ' Outlying-US(Guam-USVI-etc)' ' France' ' Holand-Netherlands']\n",
            "--------end---------\n",
            " \n",
            "------ Column name: class ------\n",
            "[' <=50K' ' >50K']\n",
            "--------end---------\n",
            " \n"
          ]
        }
      ]
    },
    {
      "cell_type": "code",
      "metadata": {
        "scrolled": true,
        "id": "QfYIv2EuGpom",
        "colab": {
          "base_uri": "https://localhost:8080/"
        },
        "outputId": "167b190a-6ff3-404e-89ee-83866839fcee"
      },
      "source": [
        "census_df['workclass'].value_counts()"
      ],
      "id": "QfYIv2EuGpom",
      "execution_count": 80,
      "outputs": [
        {
          "output_type": "execute_result",
          "data": {
            "text/plain": [
              " Private             33906\n",
              " Self-emp-not-inc     3862\n",
              " Local-gov            3136\n",
              " ?                    2799\n",
              " State-gov            1981\n",
              " Self-emp-inc         1695\n",
              " Federal-gov          1432\n",
              " Without-pay            21\n",
              " Never-worked           10\n",
              "Name: workclass, dtype: int64"
            ]
          },
          "metadata": {},
          "execution_count": 80
        }
      ]
    },
    {
      "cell_type": "markdown",
      "metadata": {
        "id": "vKZaMLyUGpoo"
      },
      "source": [
        "### There are 2799 invalid (?) data within the workclass"
      ],
      "id": "vKZaMLyUGpoo"
    },
    {
      "cell_type": "code",
      "metadata": {
        "id": "Sd9UAt4cGpop",
        "colab": {
          "base_uri": "https://localhost:8080/"
        },
        "outputId": "762128ca-a057-4b86-8ab8-7e170352326f"
      },
      "source": [
        "census_df['occupation'].value_counts()"
      ],
      "id": "Sd9UAt4cGpop",
      "execution_count": 81,
      "outputs": [
        {
          "output_type": "execute_result",
          "data": {
            "text/plain": [
              " Prof-specialty       6172\n",
              " Craft-repair         6112\n",
              " Exec-managerial      6086\n",
              " Adm-clerical         5611\n",
              " Sales                5504\n",
              " Other-service        4923\n",
              " Machine-op-inspct    3022\n",
              " ?                    2809\n",
              " Transport-moving     2355\n",
              " Handlers-cleaners    2072\n",
              " Farming-fishing      1490\n",
              " Tech-support         1446\n",
              " Protective-serv       983\n",
              " Priv-house-serv       242\n",
              " Armed-Forces           15\n",
              "Name: occupation, dtype: int64"
            ]
          },
          "metadata": {},
          "execution_count": 81
        }
      ]
    },
    {
      "cell_type": "code",
      "metadata": {
        "id": "jTe82z8uGpoq",
        "colab": {
          "base_uri": "https://localhost:8080/"
        },
        "outputId": "4398ba42-6300-4268-bb5d-f6114d481aa7"
      },
      "source": [
        "census_df['education'].value_counts()"
      ],
      "id": "jTe82z8uGpoq",
      "execution_count": 82,
      "outputs": [
        {
          "output_type": "execute_result",
          "data": {
            "text/plain": [
              " HS-grad         15784\n",
              " Some-college    10878\n",
              " Bachelors        8025\n",
              " Masters          2657\n",
              " Assoc-voc        2061\n",
              " 11th             1812\n",
              " Assoc-acdm       1601\n",
              " 10th             1389\n",
              " 7th-8th           955\n",
              " Prof-school       834\n",
              " 9th               756\n",
              " 12th              657\n",
              " Doctorate         594\n",
              " 5th-6th           509\n",
              " 1st-4th           247\n",
              " Preschool          83\n",
              "Name: education, dtype: int64"
            ]
          },
          "metadata": {},
          "execution_count": 82
        }
      ]
    },
    {
      "cell_type": "code",
      "metadata": {
        "id": "Rgt_pXVEGpot",
        "colab": {
          "base_uri": "https://localhost:8080/",
          "height": 373
        },
        "outputId": "3f1dde44-08b3-49f8-a534-6e5e9c7db824"
      },
      "source": [
        "census_df['marital-status'].value_counts().plot(kind='bar');"
      ],
      "id": "Rgt_pXVEGpot",
      "execution_count": 83,
      "outputs": [
        {
          "output_type": "display_data",
          "data": {
            "image/png": "[encoded data removed]",
            "text/plain": [
              "<Figure size 432x288 with 1 Axes>"
            ]
          },
          "metadata": {
            "needs_background": "light"
          }
        }
      ]
    },
    {
      "cell_type": "code",
      "metadata": {
        "id": "JaLqVukJGpow",
        "colab": {
          "base_uri": "https://localhost:8080/"
        },
        "outputId": "c47d96a2-9e38-4284-bae1-4cf392a8cfe4"
      },
      "source": [
        "census_df['native-country'].value_counts()"
      ],
      "id": "JaLqVukJGpow",
      "execution_count": 84,
      "outputs": [
        {
          "output_type": "execute_result",
          "data": {
            "text/plain": [
              " United-States                 43832\n",
              " Mexico                          951\n",
              " ?                               857\n",
              " Philippines                     295\n",
              " Germany                         206\n",
              " Puerto-Rico                     184\n",
              " Canada                          182\n",
              " El-Salvador                     155\n",
              " India                           151\n",
              " Cuba                            138\n",
              " England                         127\n",
              " China                           122\n",
              " South                           115\n",
              " Jamaica                         106\n",
              " Italy                           105\n",
              " Dominican-Republic              103\n",
              " Japan                            92\n",
              " Guatemala                        88\n",
              " Poland                           87\n",
              " Vietnam                          86\n",
              " Columbia                         85\n",
              " Haiti                            75\n",
              " Portugal                         67\n",
              " Taiwan                           65\n",
              " Iran                             59\n",
              " Nicaragua                        49\n",
              " Greece                           49\n",
              " Peru                             46\n",
              " Ecuador                          45\n",
              " France                           38\n",
              " Ireland                          37\n",
              " Hong                             30\n",
              " Thailand                         30\n",
              " Cambodia                         28\n",
              " Trinadad&Tobago                  27\n",
              " Laos                             23\n",
              " Yugoslavia                       23\n",
              " Outlying-US(Guam-USVI-etc)       23\n",
              " Scotland                         21\n",
              " Honduras                         20\n",
              " Hungary                          19\n",
              " Holand-Netherlands                1\n",
              "Name: native-country, dtype: int64"
            ]
          },
          "metadata": {},
          "execution_count": 84
        }
      ]
    },
    {
      "cell_type": "markdown",
      "metadata": {
        "id": "e4xJSdEgGpox"
      },
      "source": [
        "### There are 857 invalid (?) data within the native country category"
      ],
      "id": "e4xJSdEgGpox"
    },
    {
      "cell_type": "code",
      "metadata": {
        "id": "zqHvNwZFGpoy",
        "colab": {
          "base_uri": "https://localhost:8080/"
        },
        "outputId": "929cd408-f84b-4216-f3f7-ceb56ccc70c5"
      },
      "source": [
        "#To check for the total number of males and females\n",
        "census_df['sex'].value_counts()"
      ],
      "id": "zqHvNwZFGpoy",
      "execution_count": 85,
      "outputs": [
        {
          "output_type": "execute_result",
          "data": {
            "text/plain": [
              " Male      32650\n",
              " Female    16192\n",
              "Name: sex, dtype: int64"
            ]
          },
          "metadata": {},
          "execution_count": 85
        }
      ]
    },
    {
      "cell_type": "markdown",
      "metadata": {
        "id": "nu-AZL5DGpoz"
      },
      "source": [
        "### There are 32650 males, and 16192 females in the dataset."
      ],
      "id": "nu-AZL5DGpoz"
    },
    {
      "cell_type": "markdown",
      "metadata": {
        "id": "GibWgFBGGpo0"
      },
      "source": [
        "## Task 4 - Handle missing values"
      ],
      "id": "GibWgFBGGpo0"
    },
    {
      "cell_type": "markdown",
      "metadata": {
        "id": "nG_xaakaGpo0"
      },
      "source": [
        "There are two popular ways to handle missing values: delete them, or imput them (e.g. replacing the missing values with mean, median or mode of the feature in the dataset. What is the best way to handle the missing values in the dataset? Write python code that implements your preferred choice of handling missing values. "
      ],
      "id": "nG_xaakaGpo0"
    },
    {
      "cell_type": "code",
      "metadata": {
        "id": "63VfHBxOGpo1",
        "colab": {
          "base_uri": "https://localhost:8080/"
        },
        "outputId": "90ef5270-c00d-4b89-a198-a92b792fef09"
      },
      "source": [
        "#Checking for the datatypes of the columns with invalid data\n",
        "census_df.dtypes"
      ],
      "id": "63VfHBxOGpo1",
      "execution_count": 86,
      "outputs": [
        {
          "output_type": "execute_result",
          "data": {
            "text/plain": [
              "age                int64\n",
              "workclass         object\n",
              "education         object\n",
              "marital-status    object\n",
              "occupation        object\n",
              "relationship      object\n",
              "race              object\n",
              "sex               object\n",
              "capital-gain       int64\n",
              "capital-loss       int64\n",
              "hours-per-week     int64\n",
              "native-country    object\n",
              "class             object\n",
              "dtype: object"
            ]
          },
          "metadata": {},
          "execution_count": 86
        }
      ]
    },
    {
      "cell_type": "markdown",
      "metadata": {
        "id": "wkeuURuiGpo2"
      },
      "source": [
        "#### We have invalid data in the workclass, occupation, and native-country. They all happen to be object type.\n",
        "#### The number of the invalid data is in thousands hence we cannot not delete them otherwise we will lose a great amount of information.\n",
        "#### Here, we can only consider replacing them with their mode values."
      ],
      "id": "wkeuURuiGpo2"
    },
    {
      "cell_type": "markdown",
      "metadata": {
        "id": "sKgp9azQGpo3"
      },
      "source": [
        "#### Replacing the invalid data with their respective mode values"
      ],
      "id": "sKgp9azQGpo3"
    },
    {
      "cell_type": "code",
      "metadata": {
        "scrolled": true,
        "id": "-1q2oRfwGpo4",
        "colab": {
          "base_uri": "https://localhost:8080/"
        },
        "outputId": "e5172630-c0d9-4a01-f8db-ad6cc7f10571"
      },
      "source": [
        "#Checking for the mode of the workclass category\n",
        "census_df['workclass'].mode()"
      ],
      "id": "-1q2oRfwGpo4",
      "execution_count": 87,
      "outputs": [
        {
          "output_type": "execute_result",
          "data": {
            "text/plain": [
              "0     Private\n",
              "dtype: object"
            ]
          },
          "metadata": {},
          "execution_count": 87
        }
      ]
    },
    {
      "cell_type": "code",
      "metadata": {
        "id": "KDWc-ovDGpo4"
      },
      "source": [
        "#Replace the values with mode\n",
        "census_df['workclass'] = census_df['workclass'].str.replace('?', 'Private')"
      ],
      "id": "KDWc-ovDGpo4",
      "execution_count": 88,
      "outputs": []
    },
    {
      "cell_type": "markdown",
      "metadata": {
        "id": "b14eNfxOGpo6"
      },
      "source": [
        "#### The mode replacement did not take effect on the dataset until I added the 'str'"
      ],
      "id": "b14eNfxOGpo6"
    },
    {
      "cell_type": "code",
      "metadata": {
        "id": "q2dRLcPEGpo6",
        "colab": {
          "base_uri": "https://localhost:8080/"
        },
        "outputId": "7dc4d33f-afb6-4765-caee-f4d165e47e2e"
      },
      "source": [
        "#Checking for the mode of the occupation category\n",
        "census_df['occupation'].mode()"
      ],
      "id": "q2dRLcPEGpo6",
      "execution_count": 89,
      "outputs": [
        {
          "output_type": "execute_result",
          "data": {
            "text/plain": [
              "0     Prof-specialty\n",
              "dtype: object"
            ]
          },
          "metadata": {},
          "execution_count": 89
        }
      ]
    },
    {
      "cell_type": "code",
      "metadata": {
        "id": "LzYVd_2CGpo7"
      },
      "source": [
        "#Replace the values with mode\n",
        "census_df['occupation'] = census_df['occupation'].str.replace('?', 'Prof-specialty')"
      ],
      "id": "LzYVd_2CGpo7",
      "execution_count": 90,
      "outputs": []
    },
    {
      "cell_type": "code",
      "metadata": {
        "id": "4C-OxC3eGpo7",
        "colab": {
          "base_uri": "https://localhost:8080/"
        },
        "outputId": "f9209ff5-b387-4dfb-8bcf-6c8850af4f1a"
      },
      "source": [
        "#Checking for the mode of the native-country\n",
        "census_df['native-country'].mode()"
      ],
      "id": "4C-OxC3eGpo7",
      "execution_count": 91,
      "outputs": [
        {
          "output_type": "execute_result",
          "data": {
            "text/plain": [
              "0     United-States\n",
              "dtype: object"
            ]
          },
          "metadata": {},
          "execution_count": 91
        }
      ]
    },
    {
      "cell_type": "code",
      "metadata": {
        "id": "pGPu_G3GGpo8"
      },
      "source": [
        "#Replace the values with mode\n",
        "census_df['native-country'] = census_df['native-country'].str.replace('?', 'United-States')"
      ],
      "id": "pGPu_G3GGpo8",
      "execution_count": 92,
      "outputs": []
    },
    {
      "cell_type": "code",
      "metadata": {
        "scrolled": true,
        "id": "BEMsahJmGpo9",
        "colab": {
          "base_uri": "https://localhost:8080/",
          "height": 512
        },
        "outputId": "82c58312-933a-489b-b0fc-505ff619b412"
      },
      "source": [
        "census_df.head(10)"
      ],
      "id": "BEMsahJmGpo9",
      "execution_count": 93,
      "outputs": [
        {
          "output_type": "execute_result",
          "data": {
            "text/html": [
              "<div>\n",
              "<style scoped>\n",
              "    .dataframe tbody tr th:only-of-type {\n",
              "        vertical-align: middle;\n",
              "    }\n",
              "\n",
              "    .dataframe tbody tr th {\n",
              "        vertical-align: top;\n",
              "    }\n",
              "\n",
              "    .dataframe thead th {\n",
              "        text-align: right;\n",
              "    }\n",
              "</style>\n",
              "<table border=\"1\" class=\"dataframe\">\n",
              "  <thead>\n",
              "    <tr style=\"text-align: right;\">\n",
              "      <th></th>\n",
              "      <th>age</th>\n",
              "      <th>workclass</th>\n",
              "      <th>education</th>\n",
              "      <th>marital-status</th>\n",
              "      <th>occupation</th>\n",
              "      <th>relationship</th>\n",
              "      <th>race</th>\n",
              "      <th>sex</th>\n",
              "      <th>capital-gain</th>\n",
              "      <th>capital-loss</th>\n",
              "      <th>hours-per-week</th>\n",
              "      <th>native-country</th>\n",
              "      <th>class</th>\n",
              "    </tr>\n",
              "  </thead>\n",
              "  <tbody>\n",
              "    <tr>\n",
              "      <th>0</th>\n",
              "      <td>25</td>\n",
              "      <td>Private</td>\n",
              "      <td>11th</td>\n",
              "      <td>Never-married</td>\n",
              "      <td>Machine-op-inspct</td>\n",
              "      <td>Own-child</td>\n",
              "      <td>Black</td>\n",
              "      <td>Male</td>\n",
              "      <td>0</td>\n",
              "      <td>0</td>\n",
              "      <td>40</td>\n",
              "      <td>United-States</td>\n",
              "      <td>&lt;=50K</td>\n",
              "    </tr>\n",
              "    <tr>\n",
              "      <th>1</th>\n",
              "      <td>38</td>\n",
              "      <td>Private</td>\n",
              "      <td>HS-grad</td>\n",
              "      <td>Married-civ-spouse</td>\n",
              "      <td>Farming-fishing</td>\n",
              "      <td>Husband</td>\n",
              "      <td>White</td>\n",
              "      <td>Male</td>\n",
              "      <td>0</td>\n",
              "      <td>0</td>\n",
              "      <td>50</td>\n",
              "      <td>United-States</td>\n",
              "      <td>&lt;=50K</td>\n",
              "    </tr>\n",
              "    <tr>\n",
              "      <th>2</th>\n",
              "      <td>28</td>\n",
              "      <td>Local-gov</td>\n",
              "      <td>Assoc-acdm</td>\n",
              "      <td>Married-civ-spouse</td>\n",
              "      <td>Protective-serv</td>\n",
              "      <td>Husband</td>\n",
              "      <td>White</td>\n",
              "      <td>Male</td>\n",
              "      <td>0</td>\n",
              "      <td>0</td>\n",
              "      <td>40</td>\n",
              "      <td>United-States</td>\n",
              "      <td>&gt;50K</td>\n",
              "    </tr>\n",
              "    <tr>\n",
              "      <th>3</th>\n",
              "      <td>44</td>\n",
              "      <td>Private</td>\n",
              "      <td>Some-college</td>\n",
              "      <td>Married-civ-spouse</td>\n",
              "      <td>Machine-op-inspct</td>\n",
              "      <td>Husband</td>\n",
              "      <td>Black</td>\n",
              "      <td>Male</td>\n",
              "      <td>7688</td>\n",
              "      <td>0</td>\n",
              "      <td>40</td>\n",
              "      <td>United-States</td>\n",
              "      <td>&gt;50K</td>\n",
              "    </tr>\n",
              "    <tr>\n",
              "      <th>4</th>\n",
              "      <td>18</td>\n",
              "      <td>Private</td>\n",
              "      <td>Some-college</td>\n",
              "      <td>Never-married</td>\n",
              "      <td>Prof-specialty</td>\n",
              "      <td>Own-child</td>\n",
              "      <td>White</td>\n",
              "      <td>Female</td>\n",
              "      <td>0</td>\n",
              "      <td>0</td>\n",
              "      <td>30</td>\n",
              "      <td>United-States</td>\n",
              "      <td>&lt;=50K</td>\n",
              "    </tr>\n",
              "    <tr>\n",
              "      <th>5</th>\n",
              "      <td>34</td>\n",
              "      <td>Private</td>\n",
              "      <td>10th</td>\n",
              "      <td>Never-married</td>\n",
              "      <td>Other-service</td>\n",
              "      <td>Not-in-family</td>\n",
              "      <td>White</td>\n",
              "      <td>Male</td>\n",
              "      <td>0</td>\n",
              "      <td>0</td>\n",
              "      <td>30</td>\n",
              "      <td>United-States</td>\n",
              "      <td>&lt;=50K</td>\n",
              "    </tr>\n",
              "    <tr>\n",
              "      <th>6</th>\n",
              "      <td>29</td>\n",
              "      <td>Private</td>\n",
              "      <td>HS-grad</td>\n",
              "      <td>Never-married</td>\n",
              "      <td>Prof-specialty</td>\n",
              "      <td>Unmarried</td>\n",
              "      <td>Black</td>\n",
              "      <td>Male</td>\n",
              "      <td>0</td>\n",
              "      <td>0</td>\n",
              "      <td>40</td>\n",
              "      <td>United-States</td>\n",
              "      <td>&lt;=50K</td>\n",
              "    </tr>\n",
              "    <tr>\n",
              "      <th>7</th>\n",
              "      <td>63</td>\n",
              "      <td>Self-emp-not-inc</td>\n",
              "      <td>Prof-school</td>\n",
              "      <td>Married-civ-spouse</td>\n",
              "      <td>Prof-specialty</td>\n",
              "      <td>Husband</td>\n",
              "      <td>White</td>\n",
              "      <td>Male</td>\n",
              "      <td>3103</td>\n",
              "      <td>0</td>\n",
              "      <td>32</td>\n",
              "      <td>United-States</td>\n",
              "      <td>&gt;50K</td>\n",
              "    </tr>\n",
              "    <tr>\n",
              "      <th>8</th>\n",
              "      <td>24</td>\n",
              "      <td>Private</td>\n",
              "      <td>Some-college</td>\n",
              "      <td>Never-married</td>\n",
              "      <td>Other-service</td>\n",
              "      <td>Unmarried</td>\n",
              "      <td>White</td>\n",
              "      <td>Female</td>\n",
              "      <td>0</td>\n",
              "      <td>0</td>\n",
              "      <td>40</td>\n",
              "      <td>United-States</td>\n",
              "      <td>&lt;=50K</td>\n",
              "    </tr>\n",
              "    <tr>\n",
              "      <th>9</th>\n",
              "      <td>55</td>\n",
              "      <td>Private</td>\n",
              "      <td>7th-8th</td>\n",
              "      <td>Married-civ-spouse</td>\n",
              "      <td>Craft-repair</td>\n",
              "      <td>Husband</td>\n",
              "      <td>White</td>\n",
              "      <td>Male</td>\n",
              "      <td>0</td>\n",
              "      <td>0</td>\n",
              "      <td>10</td>\n",
              "      <td>United-States</td>\n",
              "      <td>&lt;=50K</td>\n",
              "    </tr>\n",
              "  </tbody>\n",
              "</table>\n",
              "</div>"
            ],
            "text/plain": [
              "   age          workclass  ...  native-country   class\n",
              "0   25            Private  ...   United-States   <=50K\n",
              "1   38            Private  ...   United-States   <=50K\n",
              "2   28          Local-gov  ...   United-States    >50K\n",
              "3   44            Private  ...   United-States    >50K\n",
              "4   18            Private  ...   United-States   <=50K\n",
              "5   34            Private  ...   United-States   <=50K\n",
              "6   29            Private  ...   United-States   <=50K\n",
              "7   63   Self-emp-not-inc  ...   United-States    >50K\n",
              "8   24            Private  ...   United-States   <=50K\n",
              "9   55            Private  ...   United-States   <=50K\n",
              "\n",
              "[10 rows x 13 columns]"
            ]
          },
          "metadata": {},
          "execution_count": 93
        }
      ]
    },
    {
      "cell_type": "markdown",
      "metadata": {
        "id": "ykQngHhPGpo_"
      },
      "source": [
        "## Task 5 - Plotting the dataset"
      ],
      "id": "ykQngHhPGpo_"
    },
    {
      "cell_type": "markdown",
      "metadata": {
        "id": "UFdLlnegGpo_"
      },
      "source": [
        "Write a python code that shows the following charts:\n",
        "(a) A bar chart showing the distribution of respondents according to sex, education and native country."
      ],
      "id": "UFdLlnegGpo_"
    },
    {
      "cell_type": "code",
      "metadata": {
        "id": "2gXS8-8vGppA"
      },
      "source": [
        "#Reconfiguring the education category for easy visualization\n",
        "census_df.education = census_df.education.replace(['Preschool','1st-4th', '5th-6th', '7th-8th', '9th', '10th', '11th', '12th'],\n",
        "                                                  'Primary school', regex=True)\n",
        "census_df.education = census_df.education.replace('HS-grad', 'high school', regex=True)\n",
        "census_df.education = census_df.education.replace(['Assoc-voc', 'Assoc-acdm', 'Prof-school', 'Some-college'], 'higher', regex=True)\n",
        "census_df.education = census_df.education.replace('Bachelors', 'undergrade', regex=True)\n",
        "census_df.education = census_df.education.replace('Masters', 'grad', regex=True)\n",
        "census_df.education = census_df.education.replace('Doctorate', 'doc', regex=True)"
      ],
      "id": "2gXS8-8vGppA",
      "execution_count": 94,
      "outputs": []
    },
    {
      "cell_type": "code",
      "metadata": {
        "id": "Ax4Zg2NjGppB"
      },
      "source": [
        "#Reconfiguring the  marital status for easy visualization\n",
        "census_df['marital-status']= census_df['marital-status'].replace(['Married-civ-spouse', 'Married-AF-spouse'], 'married', regex=True)\n",
        "census_df['marital-status']= census_df['marital-status'].replace('Never-married', 'not-married', regex=True)\n",
        "census_df['marital-status'] =census_df['marital-status'].replace(['Divorced', 'Separated', 'Widowed', 'Married-spouse-absent'], 'others', regex=True)\n"
      ],
      "id": "Ax4Zg2NjGppB",
      "execution_count": 95,
      "outputs": []
    },
    {
      "cell_type": "code",
      "metadata": {
        "id": "mCKSMnutGppC"
      },
      "source": [
        "#Reconfiguring the  native-country category for easy visualization\n",
        "\n",
        "census_df['native-country'] = census_df['native-country'].replace('United-States', 'US', regex=True)\n",
        "\n",
        "census_df['native-country'] = census_df['native-country'].replace(['Mexico', 'Puerto-Rico', \n",
        "                                                                   'Canada', 'El-Salvador','Cuba', 'Jamaica', \n",
        "                                                                   'Dominican-Republic', 'Guatemala', 'Columbia', 'Haiti',\n",
        "                                                                   'Nicaragua','Peru','Honduras'], 'North America', regex=True)\n",
        "\n",
        "census_df['native-country'] = census_df['native-country'].replace(['Philippines', 'India', 'China', \n",
        "                                                                   'Japan','Vietnam', 'Taiwan', 'Iran','Hong','Thailand',\n",
        "                                                                   'Cambodia','Laos'],'Asia', regex=True)\n",
        "\n",
        "census_df['native-country'] = census_df['native-country'].replace(['Germany', 'England', 'Italy', 'Poland','Portugal', \n",
        "                                                                   'Greece', 'France','Ireland','Yugoslavia', 'Scotland','Hungary',\n",
        "                                                                   'Holand-Netherlands'],'Europe', regex=True)\n",
        "\n",
        "census_df['native-country'] = census_df['native-country'].replace([ 'South','Ecuador', 'Trinadad&Tobago'],'South America', regex=True)\n",
        "census_df['native-country'] = census_df['native-country'].replace(['Outlying-US(Guam-USVI-etc)'],'other', regex=True)"
      ],
      "id": "mCKSMnutGppC",
      "execution_count": 96,
      "outputs": []
    },
    {
      "cell_type": "code",
      "metadata": {
        "id": "sWwbo2ANGppD",
        "colab": {
          "base_uri": "https://localhost:8080/"
        },
        "outputId": "90e9c7cb-1cc7-4dd5-9bb4-de8d7d245c07"
      },
      "source": [
        "census_df['native-country'].value_counts()"
      ],
      "id": "sWwbo2ANGppD",
      "execution_count": 97,
      "outputs": [
        {
          "output_type": "execute_result",
          "data": {
            "text/plain": [
              " US                            44689\n",
              " North America                  2182\n",
              " Asia                            981\n",
              " Europe                          780\n",
              " South America                   187\n",
              " Outlying-US(Guam-USVI-etc)       23\n",
              "Name: native-country, dtype: int64"
            ]
          },
          "metadata": {},
          "execution_count": 97
        }
      ]
    },
    {
      "cell_type": "code",
      "metadata": {
        "colab": {
          "base_uri": "https://localhost:8080/"
        },
        "id": "YHQQjUx1O-sT",
        "outputId": "9c87b76c-8dca-4cb8-bb16-9c3bc459ddd2"
      },
      "source": [
        "# census_df.columns\n",
        "census_df.info()"
      ],
      "id": "YHQQjUx1O-sT",
      "execution_count": 98,
      "outputs": [
        {
          "output_type": "stream",
          "name": "stdout",
          "text": [
            "<class 'pandas.core.frame.DataFrame'>\n",
            "RangeIndex: 48842 entries, 0 to 48841\n",
            "Data columns (total 13 columns):\n",
            " #   Column          Non-Null Count  Dtype \n",
            "---  ------          --------------  ----- \n",
            " 0   age             48842 non-null  int64 \n",
            " 1   workclass       48842 non-null  object\n",
            " 2   education       48842 non-null  object\n",
            " 3   marital-status  48842 non-null  object\n",
            " 4   occupation      48842 non-null  object\n",
            " 5   relationship    48842 non-null  object\n",
            " 6   race            48842 non-null  object\n",
            " 7   sex             48842 non-null  object\n",
            " 8   capital-gain    48842 non-null  int64 \n",
            " 9   capital-loss    48842 non-null  int64 \n",
            " 10  hours-per-week  48842 non-null  int64 \n",
            " 11  native-country  48842 non-null  object\n",
            " 12  class           48842 non-null  object\n",
            "dtypes: int64(4), object(9)\n",
            "memory usage: 4.8+ MB\n"
          ]
        }
      ]
    },
    {
      "cell_type": "markdown",
      "metadata": {
        "id": "ioCWM85UvRsN"
      },
      "source": [
        "Tried many methods before finding the best viz"
      ],
      "id": "ioCWM85UvRsN"
    },
    {
      "cell_type": "markdown",
      "metadata": {
        "id": "S2yVgy9kTs_F"
      },
      "source": [
        "[Link to Seaborn Plotting Below](https://seaborn.pydata.org/tutorial/categorical.html)"
      ],
      "id": "S2yVgy9kTs_F"
    },
    {
      "cell_type": "code",
      "metadata": {
        "id": "7cmgjNtuGppE",
        "colab": {
          "base_uri": "https://localhost:8080/",
          "height": 383
        },
        "outputId": "a53a569c-8d4d-4ed2-c2d0-bdb96f8fd9a6"
      },
      "source": [
        "#Plotting the sex vs education category\n",
        "# sns.barplot(data=census_df['sex'].value_counts());  # x = 'sex', y = 'education', \n",
        "# sns.barplot(x=census_df['sex'].values, y=census_df['education'].values);  # x = 'sex', y = 'education', \n",
        "# census_df['sex_num'] = census_df['sex'].str.replace('Male', 'male')\n",
        "# census_df['sex_num'] = census_df['sex_num'].str.replace('Female', 'female')\n",
        "# {'Male': 0, 'Female': 1})\n",
        "# sns.catplot(x=\"sex\", y=\"education\", kind=\"bar\", data=census_df)\n",
        "# census['sex_num'] = census.sex.apply(lambda x: 1 if x=='Male\" else 0)\n",
        "# census_df['sex'][census_df['sex'] == 'Male'].value_counts()\n",
        "sns.catplot(x=\"education\", hue=\"sex\", kind=\"count\", data=census_df);"
      ],
      "id": "7cmgjNtuGppE",
      "execution_count": 106,
      "outputs": [
        {
          "output_type": "display_data",
          "data": {
            "image/png": "[encoded data removed]",
            "text/plain": [
              "<Figure size 435.25x360 with 1 Axes>"
            ]
          },
          "metadata": {
            "needs_background": "light"
          }
        }
      ]
    },
    {
      "cell_type": "code",
      "metadata": {
        "colab": {
          "base_uri": "https://localhost:8080/",
          "height": 383
        },
        "id": "ogm5msYbtM1a",
        "outputId": "579820a8-90f6-4f56-f681-2a07426f2f96"
      },
      "source": [
        "sns.catplot(x=\"sex\", hue=\"education\", kind=\"count\", data=census_df);"
      ],
      "id": "ogm5msYbtM1a",
      "execution_count": 107,
      "outputs": [
        {
          "output_type": "display_data",
          "data": {
            "image/png": "[encoded data removed]",
            "text/plain": [
              "<Figure size 472.875x360 with 1 Axes>"
            ]
          },
          "metadata": {
            "needs_background": "light"
          }
        }
      ]
    },
    {
      "cell_type": "code",
      "metadata": {
        "colab": {
          "base_uri": "https://localhost:8080/"
        },
        "id": "oJsP7WTsQzr4",
        "outputId": "e5e23536-03a6-47cb-dbae-588e95ad94dc"
      },
      "source": [
        "census_df['sex'].value_counts()"
      ],
      "id": "oJsP7WTsQzr4",
      "execution_count": 101,
      "outputs": [
        {
          "output_type": "execute_result",
          "data": {
            "text/plain": [
              " Male      32650\n",
              " Female    16192\n",
              "Name: sex, dtype: int64"
            ]
          },
          "metadata": {},
          "execution_count": 101
        }
      ]
    },
    {
      "cell_type": "code",
      "metadata": {
        "id": "TK0DNXuxGppF",
        "colab": {
          "base_uri": "https://localhost:8080/",
          "height": 400
        },
        "outputId": "b5949511-171a-4aa7-9b86-ba6edc505d79"
      },
      "source": [
        "# Plotting the education vs native-country category\n",
        "sns.catplot(x=\"native-country\", hue=\"education\", kind=\"count\", data=census_df)"
      ],
      "id": "TK0DNXuxGppF",
      "execution_count": 108,
      "outputs": [
        {
          "output_type": "execute_result",
          "data": {
            "text/plain": [
              "<seaborn.axisgrid.FacetGrid at 0x7f80111dc150>"
            ]
          },
          "metadata": {},
          "execution_count": 108
        },
        {
          "output_type": "display_data",
          "data": {
            "image/png": "[encoded data removed]",
            "text/plain": [
              "<Figure size 472.875x360 with 1 Axes>"
            ]
          },
          "metadata": {
            "needs_background": "light"
          }
        }
      ]
    },
    {
      "cell_type": "code",
      "metadata": {
        "colab": {
          "base_uri": "https://localhost:8080/",
          "height": 400
        },
        "id": "lTpUht2cuFna",
        "outputId": "102e6d36-9807-45a5-ccf8-2d96ca2ed166"
      },
      "source": [
        "sns.catplot(x=\"education\", hue=\"native-country\", kind=\"count\", data=census_df)"
      ],
      "id": "lTpUht2cuFna",
      "execution_count": 103,
      "outputs": [
        {
          "output_type": "execute_result",
          "data": {
            "text/plain": [
              "<seaborn.axisgrid.FacetGrid at 0x7f8011dee8d0>"
            ]
          },
          "metadata": {},
          "execution_count": 103
        },
        {
          "output_type": "display_data",
          "data": {
            "image/png": "[encoded data removed]",
            "text/plain": [
              "<Figure size 542.5x360 with 1 Axes>"
            ]
          },
          "metadata": {
            "needs_background": "light"
          }
        }
      ]
    },
    {
      "cell_type": "markdown",
      "metadata": {
        "id": "TBHtLG4auQ7o"
      },
      "source": [
        "This one looks better"
      ],
      "id": "TBHtLG4auQ7o"
    },
    {
      "cell_type": "markdown",
      "metadata": {
        "id": "QtqDLiGNGppF"
      },
      "source": [
        "## Task 6 - Save your updated census dataset in a new CSV file"
      ],
      "id": "QtqDLiGNGppF"
    },
    {
      "cell_type": "markdown",
      "metadata": {
        "id": "r37k6vrHGppG"
      },
      "source": [
        "Write a python code that saves your work in a CSV file named \"census_new\". "
      ],
      "id": "r37k6vrHGppG"
    },
    {
      "cell_type": "code",
      "metadata": {
        "id": "gLLwBeXHGppG"
      },
      "source": [
        "census_df.to_csv('census_new.csv')"
      ],
      "id": "gLLwBeXHGppG",
      "execution_count": 104,
      "outputs": []
    },
    {
      "cell_type": "code",
      "metadata": {
        "scrolled": true,
        "id": "3cJ5dUUwGppH",
        "colab": {
          "base_uri": "https://localhost:8080/",
          "height": 555
        },
        "outputId": "68f5351c-83b6-4827-feb9-65940f56977a"
      },
      "source": [
        "pd.read_csv('census_new.csv')"
      ],
      "id": "3cJ5dUUwGppH",
      "execution_count": 105,
      "outputs": [
        {
          "output_type": "execute_result",
          "data": {
            "text/html": [
              "<div>\n",
              "<style scoped>\n",
              "    .dataframe tbody tr th:only-of-type {\n",
              "        vertical-align: middle;\n",
              "    }\n",
              "\n",
              "    .dataframe tbody tr th {\n",
              "        vertical-align: top;\n",
              "    }\n",
              "\n",
              "    .dataframe thead th {\n",
              "        text-align: right;\n",
              "    }\n",
              "</style>\n",
              "<table border=\"1\" class=\"dataframe\">\n",
              "  <thead>\n",
              "    <tr style=\"text-align: right;\">\n",
              "      <th></th>\n",
              "      <th>Unnamed: 0</th>\n",
              "      <th>age</th>\n",
              "      <th>workclass</th>\n",
              "      <th>education</th>\n",
              "      <th>marital-status</th>\n",
              "      <th>occupation</th>\n",
              "      <th>relationship</th>\n",
              "      <th>race</th>\n",
              "      <th>sex</th>\n",
              "      <th>capital-gain</th>\n",
              "      <th>capital-loss</th>\n",
              "      <th>hours-per-week</th>\n",
              "      <th>native-country</th>\n",
              "      <th>class</th>\n",
              "    </tr>\n",
              "  </thead>\n",
              "  <tbody>\n",
              "    <tr>\n",
              "      <th>0</th>\n",
              "      <td>0</td>\n",
              "      <td>25</td>\n",
              "      <td>Private</td>\n",
              "      <td>Primary school</td>\n",
              "      <td>not-married</td>\n",
              "      <td>Machine-op-inspct</td>\n",
              "      <td>Own-child</td>\n",
              "      <td>Black</td>\n",
              "      <td>Male</td>\n",
              "      <td>0</td>\n",
              "      <td>0</td>\n",
              "      <td>40</td>\n",
              "      <td>US</td>\n",
              "      <td>&lt;=50K</td>\n",
              "    </tr>\n",
              "    <tr>\n",
              "      <th>1</th>\n",
              "      <td>1</td>\n",
              "      <td>38</td>\n",
              "      <td>Private</td>\n",
              "      <td>high school</td>\n",
              "      <td>married</td>\n",
              "      <td>Farming-fishing</td>\n",
              "      <td>Husband</td>\n",
              "      <td>White</td>\n",
              "      <td>Male</td>\n",
              "      <td>0</td>\n",
              "      <td>0</td>\n",
              "      <td>50</td>\n",
              "      <td>US</td>\n",
              "      <td>&lt;=50K</td>\n",
              "    </tr>\n",
              "    <tr>\n",
              "      <th>2</th>\n",
              "      <td>2</td>\n",
              "      <td>28</td>\n",
              "      <td>Local-gov</td>\n",
              "      <td>higher</td>\n",
              "      <td>married</td>\n",
              "      <td>Protective-serv</td>\n",
              "      <td>Husband</td>\n",
              "      <td>White</td>\n",
              "      <td>Male</td>\n",
              "      <td>0</td>\n",
              "      <td>0</td>\n",
              "      <td>40</td>\n",
              "      <td>US</td>\n",
              "      <td>&gt;50K</td>\n",
              "    </tr>\n",
              "    <tr>\n",
              "      <th>3</th>\n",
              "      <td>3</td>\n",
              "      <td>44</td>\n",
              "      <td>Private</td>\n",
              "      <td>higher</td>\n",
              "      <td>married</td>\n",
              "      <td>Machine-op-inspct</td>\n",
              "      <td>Husband</td>\n",
              "      <td>Black</td>\n",
              "      <td>Male</td>\n",
              "      <td>7688</td>\n",
              "      <td>0</td>\n",
              "      <td>40</td>\n",
              "      <td>US</td>\n",
              "      <td>&gt;50K</td>\n",
              "    </tr>\n",
              "    <tr>\n",
              "      <th>4</th>\n",
              "      <td>4</td>\n",
              "      <td>18</td>\n",
              "      <td>Private</td>\n",
              "      <td>higher</td>\n",
              "      <td>not-married</td>\n",
              "      <td>Prof-specialty</td>\n",
              "      <td>Own-child</td>\n",
              "      <td>White</td>\n",
              "      <td>Female</td>\n",
              "      <td>0</td>\n",
              "      <td>0</td>\n",
              "      <td>30</td>\n",
              "      <td>US</td>\n",
              "      <td>&lt;=50K</td>\n",
              "    </tr>\n",
              "    <tr>\n",
              "      <th>...</th>\n",
              "      <td>...</td>\n",
              "      <td>...</td>\n",
              "      <td>...</td>\n",
              "      <td>...</td>\n",
              "      <td>...</td>\n",
              "      <td>...</td>\n",
              "      <td>...</td>\n",
              "      <td>...</td>\n",
              "      <td>...</td>\n",
              "      <td>...</td>\n",
              "      <td>...</td>\n",
              "      <td>...</td>\n",
              "      <td>...</td>\n",
              "      <td>...</td>\n",
              "    </tr>\n",
              "    <tr>\n",
              "      <th>48837</th>\n",
              "      <td>48837</td>\n",
              "      <td>27</td>\n",
              "      <td>Private</td>\n",
              "      <td>higher</td>\n",
              "      <td>married</td>\n",
              "      <td>Tech-support</td>\n",
              "      <td>Wife</td>\n",
              "      <td>White</td>\n",
              "      <td>Female</td>\n",
              "      <td>0</td>\n",
              "      <td>0</td>\n",
              "      <td>38</td>\n",
              "      <td>US</td>\n",
              "      <td>&lt;=50K</td>\n",
              "    </tr>\n",
              "    <tr>\n",
              "      <th>48838</th>\n",
              "      <td>48838</td>\n",
              "      <td>40</td>\n",
              "      <td>Private</td>\n",
              "      <td>high school</td>\n",
              "      <td>married</td>\n",
              "      <td>Machine-op-inspct</td>\n",
              "      <td>Husband</td>\n",
              "      <td>White</td>\n",
              "      <td>Male</td>\n",
              "      <td>0</td>\n",
              "      <td>0</td>\n",
              "      <td>40</td>\n",
              "      <td>US</td>\n",
              "      <td>&gt;50K</td>\n",
              "    </tr>\n",
              "    <tr>\n",
              "      <th>48839</th>\n",
              "      <td>48839</td>\n",
              "      <td>58</td>\n",
              "      <td>Private</td>\n",
              "      <td>high school</td>\n",
              "      <td>others</td>\n",
              "      <td>Adm-clerical</td>\n",
              "      <td>Unmarried</td>\n",
              "      <td>White</td>\n",
              "      <td>Female</td>\n",
              "      <td>0</td>\n",
              "      <td>0</td>\n",
              "      <td>40</td>\n",
              "      <td>US</td>\n",
              "      <td>&lt;=50K</td>\n",
              "    </tr>\n",
              "    <tr>\n",
              "      <th>48840</th>\n",
              "      <td>48840</td>\n",
              "      <td>22</td>\n",
              "      <td>Private</td>\n",
              "      <td>high school</td>\n",
              "      <td>not-married</td>\n",
              "      <td>Adm-clerical</td>\n",
              "      <td>Own-child</td>\n",
              "      <td>White</td>\n",
              "      <td>Male</td>\n",
              "      <td>0</td>\n",
              "      <td>0</td>\n",
              "      <td>20</td>\n",
              "      <td>US</td>\n",
              "      <td>&lt;=50K</td>\n",
              "    </tr>\n",
              "    <tr>\n",
              "      <th>48841</th>\n",
              "      <td>48841</td>\n",
              "      <td>52</td>\n",
              "      <td>Self-emp-inc</td>\n",
              "      <td>high school</td>\n",
              "      <td>married</td>\n",
              "      <td>Exec-managerial</td>\n",
              "      <td>Wife</td>\n",
              "      <td>White</td>\n",
              "      <td>Female</td>\n",
              "      <td>15024</td>\n",
              "      <td>0</td>\n",
              "      <td>40</td>\n",
              "      <td>US</td>\n",
              "      <td>&gt;50K</td>\n",
              "    </tr>\n",
              "  </tbody>\n",
              "</table>\n",
              "<p>48842 rows × 14 columns</p>\n",
              "</div>"
            ],
            "text/plain": [
              "       Unnamed: 0  age      workclass  ... hours-per-week native-country   class\n",
              "0               0   25        Private  ...             40             US   <=50K\n",
              "1               1   38        Private  ...             50             US   <=50K\n",
              "2               2   28      Local-gov  ...             40             US    >50K\n",
              "3               3   44        Private  ...             40             US    >50K\n",
              "4               4   18        Private  ...             30             US   <=50K\n",
              "...           ...  ...            ...  ...            ...            ...     ...\n",
              "48837       48837   27        Private  ...             38             US   <=50K\n",
              "48838       48838   40        Private  ...             40             US    >50K\n",
              "48839       48839   58        Private  ...             40             US   <=50K\n",
              "48840       48840   22        Private  ...             20             US   <=50K\n",
              "48841       48841   52   Self-emp-inc  ...             40             US    >50K\n",
              "\n",
              "[48842 rows x 14 columns]"
            ]
          },
          "metadata": {},
          "execution_count": 105
        }
      ]
    }
  ]
}